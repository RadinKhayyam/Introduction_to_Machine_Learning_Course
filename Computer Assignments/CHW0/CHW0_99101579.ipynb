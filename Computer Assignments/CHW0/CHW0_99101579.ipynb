{
  "cells": [
    {
      "cell_type": "markdown",
      "metadata": {
        "id": "b3x3Nl7-bdsj"
      },
      "source": [
        "<h1 align=\"center\">Machine Learning</h1>\n",
        "<h3 align=\"center\">Dr. Mohammad Bagher Shamsollahi</h3>\n",
        "<h5 align=\"center\">Sharif University of Technology<br/>Electrical Engineering Department</h5>\n",
        "\n",
        "---\n",
        "\n",
        "Welcome to your first assignment. This exercise gives you a brief introduction to Python.\n",
        "\n",
        "> **Instructions:**\n",
        "> * You will be using Python 3.\n",
        "> * Please upload your assignment on CW.\n",
        "> * Your file name should be in format of ***HW# _Name_Student ID***\n",
        "> * Do not upload other students’ answers.\n",
        "> * If you have any inquiry regarding this assignment, message '@amirsina_bb99' in Telegram.\n",
        "\n"
      ]
    },
    {
      "cell_type": "markdown",
      "metadata": {
        "id": "1Tjw_cXBzyCO"
      },
      "source": [
        "## About iPython Notebooks ##\n",
        "\n",
        "iPython Notebooks are interactive coding environments embedded in a webpage. You will be using iPython notebooks in this class. You only need to write code between the ### START CODE HERE ### and ### END CODE HERE ### comments. After writing your code, you can run the cell by either pressing \"SHIFT\"+\"ENTER\" or by clicking on \"Run Cell\" (denoted by a play symbol) in the upper bar of the notebook.\n",
        "\n",
        "**Exercise**: Set your StudentName and StudentID in the cell below to print and run the cell."
      ]
    },
    {
      "cell_type": "code",
      "execution_count": 1,
      "metadata": {
        "colab": {
          "base_uri": "https://localhost:8080/"
        },
        "id": "dW-cSYh0cGfb",
        "outputId": "d4778d11-dbf6-44a9-e7a1-41ac34dc8aaa"
      },
      "outputs": [
        {
          "output_type": "stream",
          "name": "stdout",
          "text": [
            "StudentName:Radin Khayyam , StudentID:99101579\n"
          ]
        }
      ],
      "source": [
        "### Please Fill the following entries\n",
        "StudentName = \"Radin Khayyam\"\n",
        "StudentID   = \"99101579\"\n",
        "\n",
        "print (f'StudentName:{StudentName} , StudentID:{StudentID}')"
      ]
    },
    {
      "cell_type": "markdown",
      "metadata": {
        "id": "2ab258e1"
      },
      "source": [
        "## 1.(9 pts)\n",
        "What are the lengths of the following lists and strings below? Fill in the variable `lengths` with your predictions. (Try to make a prediction for each list *without* just calling `len()` on it.)"
      ]
    },
    {
      "cell_type": "code",
      "execution_count": 20,
      "metadata": {
        "id": "ef188312",
        "colab": {
          "base_uri": "https://localhost:8080/"
        },
        "outputId": "b928994e-d26b-4514-cb45-d528eea3867e"
      },
      "outputs": [
        {
          "output_type": "execute_result",
          "data": {
            "text/plain": [
              "[3, 2, 2, 2, 0, 1, 3, 7, 8, 0, 2, 2, 1, 35]"
            ]
          },
          "metadata": {},
          "execution_count": 20
        }
      ],
      "source": [
        "a = [1, 2, 3]\n",
        "b = [1, [2, 3]]\n",
        "c = [1, [2, 3,[4 ,5]]] #Think about the lenght of c and length of c[1]\n",
        "d = [[1,2] , [3, 4]]\n",
        "e = []\n",
        "f = [[]]\n",
        "g = [1, 2, 3, 4, 5][1:4]\n",
        "h = 'it\\'s ok'\n",
        "i = 'it\\\\\\'s ok'\n",
        "j = \"\"\n",
        "k = \"\"\"Ok\"\"\"\n",
        "l = '\\n\\n'\n",
        "m = '\\t'\n",
        "n = 5*(h+''+j)\n",
        "# Put your predictions in the list below. Lengths should contain 14 numbers, the\n",
        "# first being the length of a, the second being the length of b and so on.\n",
        "\n",
        "### START CODE HERE ###\n",
        "lengths = [3, 2, 2, 2, 0, 1, 3, 7, 8, 0, 2, 2, 1, 35]\n",
        "### END CODE HERE ###\n",
        "\n",
        "lengths"
      ]
    },
    {
      "cell_type": "markdown",
      "metadata": {
        "id": "dKIP8WHd8eJh"
      },
      "source": [
        "## 2.(7 pts)\n",
        "Write a function that gets an integer as input and returns the factorial as the output."
      ]
    },
    {
      "cell_type": "code",
      "execution_count": 21,
      "metadata": {
        "id": "YR02cuVL8eKS",
        "colab": {
          "base_uri": "https://localhost:8080/"
        },
        "outputId": "f516506d-72d0-4ba3-e244-184254394cb5"
      },
      "outputs": [
        {
          "output_type": "stream",
          "name": "stdout",
          "text": [
            "Factorial isn't defined\n",
            "1\n",
            "120\n"
          ]
        }
      ],
      "source": [
        "def factorial(x):\n",
        "\n",
        "    out = 1\n",
        "    ### START CODE HERE ###\n",
        "    if x > 0:\n",
        "      for i in range(1, x+1):\n",
        "        out *= i\n",
        "    elif x < 0:\n",
        "      out = \"Factorial isn't defined\"\n",
        "    ### END CODE HERE ###\n",
        "\n",
        "    return out\n",
        "\n",
        "\n",
        "print(factorial(-1))\n",
        "print(factorial(0))\n",
        "print(factorial(5))"
      ]
    },
    {
      "cell_type": "markdown",
      "metadata": {
        "id": "SG9eJ82C8eKc"
      },
      "source": [
        "## 3.(13 pts)\n",
        "A list of 30 tuples with random integers is given. Write a function that gets the list and index of tuple element which we want to sort based on (1st or 2nd) and return the sorted list in ascending order. In case of equal numbers, sort according to the other element. Example:\n",
        "\n",
        "\n",
        "```\n",
        "x = [(10,47),(15,47),(77,23),(15,34)]\n",
        "# sort list based on first element of tuples\n",
        "idx = 0\n",
        "result = [(10,47),(15,34),(15,47),(77,23)]\n",
        "# sort list based on second element of tuples\n",
        "idx = 1\n",
        "result = [(77,23),(15,34),(10,47),(15,47)]\n",
        "```\n",
        "\n"
      ]
    },
    {
      "cell_type": "code",
      "execution_count": 22,
      "metadata": {
        "id": "_oR_oL5O8eKd",
        "colab": {
          "base_uri": "https://localhost:8080/"
        },
        "outputId": "fc50228e-7a97-4a00-fae3-5e9aea3de330"
      },
      "outputs": [
        {
          "output_type": "stream",
          "name": "stdout",
          "text": [
            "Original list:\n",
            "[(8, 14), (11, 33), (43, 18), (19, 39), (21, 19), (10, 14), (35, 24), (15, 2), (3, 15), (13, 47), (29, 4), (47, 40), (37, 22), (35, 34), (24, 43), (36, 19), (24, 12), (25, 45), (18, 31), (7, 3), (44, 27), (8, 6), (7, 5), (22, 46), (14, 36), (31, 23), (25, 46), (13, 34), (46, 10), (2, 3)]\n",
            "Sorted list based on 1st element:\n",
            "[(2, 3), (3, 15), (7, 3), (7, 5), (8, 6), (8, 14), (10, 14), (11, 33), (13, 34), (13, 47), (14, 36), (15, 2), (18, 31), (19, 39), (21, 19), (22, 46), (24, 12), (24, 43), (25, 45), (25, 46), (29, 4), (31, 23), (35, 24), (35, 34), (36, 19), (37, 22), (43, 18), (44, 27), (46, 10), (47, 40)]\n",
            "Sorted list based on 2nd element:\n",
            "[(15, 2), (2, 3), (7, 3), (29, 4), (7, 5), (8, 6), (46, 10), (24, 12), (8, 14), (10, 14), (3, 15), (43, 18), (21, 19), (36, 19), (37, 22), (31, 23), (35, 24), (44, 27), (18, 31), (11, 33), (13, 34), (35, 34), (14, 36), (19, 39), (47, 40), (24, 43), (25, 45), (22, 46), (25, 46), (13, 47)]\n"
          ]
        }
      ],
      "source": [
        "import random\n",
        "\n",
        "def sort_list(tuple_list, idx):\n",
        "    ### START CODE HERE ###\n",
        "    sorted_list = sorted(tuple_list, key=lambda x: (x[idx], x[1-idx]))\n",
        "    return sorted_list\n",
        "    ### END CODE HERE ###\n",
        "\n",
        "# Generate a list of 30 random tuples\n",
        "tuple_list = [(random.randint(1, 50), random.randint(1, 50)) for _ in range(30)]\n",
        "\n",
        "print('Original list:')\n",
        "print(tuple_list)\n",
        "\n",
        "idx = 0\n",
        "print('Sorted list based on 1st element:')\n",
        "print(sort_list(tuple_list, idx))\n",
        "\n",
        "idx = 1\n",
        "print('Sorted list based on 2nd element:')\n",
        "print(sort_list(tuple_list, idx))\n"
      ]
    },
    {
      "cell_type": "markdown",
      "metadata": {
        "id": "Fh7W6BTlb2yO"
      },
      "source": [
        "## 4.(9 pts)\n",
        "Complete the body of the function below according to its docstring."
      ]
    },
    {
      "cell_type": "code",
      "execution_count": 35,
      "metadata": {
        "id": "roHbRofDb2yW",
        "colab": {
          "base_uri": "https://localhost:8080/"
        },
        "outputId": "12eb0e7a-091d-430c-d5b4-5fe3f4f6d39c"
      },
      "outputs": [
        {
          "output_type": "stream",
          "name": "stdout",
          "text": [
            "[1501, 1539, 1577, 1615, 1653, 1691, 1729, 1767, 1805, 1843, 1881, 1919, 1957, 1995, 2033, 2071, 2109, 2147, 2185]\n"
          ]
        }
      ],
      "source": [
        "def my_func(a,b):\n",
        "    \"\"\"Write a function that get two numbers and return a list contaioning all such numbers which are divisble by first number and\n",
        "    not a multiple of second one, between 1500 and 2200 (both included).\n",
        "    \"\"\"\n",
        "    result = []\n",
        "    ### START CODE HERE ###\n",
        "    for num in range(1500, 2201):\n",
        "        if num % a == 0 and num % b != 0:\n",
        "            result.append(num)\n",
        "    ### END CODE HERE ###\n",
        "    return result\n",
        "\n",
        "\n",
        "print(my_func(19, 2))"
      ]
    },
    {
      "cell_type": "markdown",
      "metadata": {
        "id": "7bHOPT0Bb2ya"
      },
      "source": [
        "## 5.(5 pts)\n",
        "\n",
        "> A simple exercise! Run the cell below and try to explain the results:\n",
        "```"
      ]
    },
    {
      "cell_type": "code",
      "execution_count": 24,
      "metadata": {
        "id": "XfKDiJnmb2yc",
        "colab": {
          "base_uri": "https://localhost:8080/"
        },
        "outputId": "ab9991b2-01b1-4ae6-c7a6-91fa76f4245f"
      },
      "outputs": [
        {
          "output_type": "stream",
          "name": "stdout",
          "text": [
            "1.0\n",
            "0.0\n",
            "1.0\n"
          ]
        }
      ],
      "source": [
        "print( 1.0 + 1.0 - 1.0 )\n",
        "print( 1.0 + 1.0e20 - 1.0e20 )\n",
        "print( 1.0e20 - 1.0e20 + 1 )"
      ]
    },
    {
      "cell_type": "markdown",
      "source": [
        "First expression first adds 1.0 to 1.0, resulting in 2.0. Then, it subtracts 1.0 from 2.0, which yields 1.0.\n",
        "\n",
        "Second expression, 1.0 is added to 1.0e20, which is a very large number. Adding 1.0 to such a large number does not significantly change its value due to the large scale. Then, 1.0e20 is subtracted from the result. Since the subtraction involves numbers of similar magnitude, the result is expected to be approximately 1.0. However, due to limitations in floating-point precision, there could be a slight deviation in the result, and the result is equal to 0.0.\n",
        "\n",
        "Third expression, 1.0e20 is subtracted from 1.0e20, resulting in 0.0. Then, 1 is added to 0.0, yielding 1.0. So, the result is 1.0."
      ],
      "metadata": {
        "id": "40hBpdw8_XEg"
      }
    },
    {
      "cell_type": "markdown",
      "metadata": {
        "id": "7h4sIJUNuVIw"
      },
      "source": [
        "## 6.(10 pts)\n",
        "Write a function that takes a list of positive integers as input and returns `True` if all elements are prime numbers.\n",
        "> Hint: first write a function to check if a number is prime\n"
      ]
    },
    {
      "cell_type": "code",
      "execution_count": 27,
      "metadata": {
        "id": "b45e253a",
        "colab": {
          "base_uri": "https://localhost:8080/"
        },
        "outputId": "f37ee262-27e6-4665-d37f-0960d532b04d"
      },
      "outputs": [
        {
          "output_type": "stream",
          "name": "stdout",
          "text": [
            "False\n",
            "True\n",
            "False\n"
          ]
        }
      ],
      "source": [
        "a = [8, 3, 4, 7, 9]\n",
        "b = [3, 5, 7, 13]\n",
        "c = [1, 5, 3]\n",
        "\n",
        "### START CODE HERE ###\n",
        "def is_prime(num):\n",
        "    \"\"\"Check if a number is prime.\"\"\"\n",
        "    if num <= 1:\n",
        "        return False\n",
        "    elif num <= 3:\n",
        "        return True\n",
        "    elif num % 2 == 0 or num % 3 == 0:\n",
        "        return False\n",
        "    i = 5\n",
        "    while i * i <= num:\n",
        "        if num % i == 0 or num % (i + 2) == 0:\n",
        "            return False\n",
        "        i += 6\n",
        "    return True\n",
        "\n",
        "def is_all_prime(x):\n",
        "    for num in x:\n",
        "      if not is_prime(num):\n",
        "        return False\n",
        "    return True\n",
        "\n",
        "### END CODE HERE ###\n",
        "\n",
        "print(is_all_prime(a))\n",
        "print(is_all_prime(b))\n",
        "print(is_all_prime(c))"
      ]
    },
    {
      "cell_type": "markdown",
      "metadata": {
        "id": "7b8cc97f"
      },
      "source": [
        "## 7.(4 pts)\n",
        "There is a problem with the piece of code below. Try to identify the problem and fix it."
      ]
    },
    {
      "cell_type": "code",
      "execution_count": 28,
      "metadata": {
        "id": "f833e9ef"
      },
      "outputs": [],
      "source": [
        "def has_lucky_number(nums):\n",
        "    \"\"\"Return whether the given list of numbers is lucky. A lucky list contains\n",
        "    at least one number divisible by 7.\n",
        "    \"\"\"\n",
        "    for num in nums:\n",
        "        if num % 7 == 0:\n",
        "            return True\n",
        "    return False"
      ]
    },
    {
      "cell_type": "markdown",
      "metadata": {
        "id": "a1c83bc6"
      },
      "source": [
        "## 8.(9 pts)\n",
        "Write a function which takes a tuple of 2 integers `(X,Y)` as input and returns a 2-dimensional list. The element value in the i-th row and j-th column of the array should be `i*j`. Note: `i=0,1.., X-1; j=0,1,..,Y-1`.\n",
        "\n",
        "Example:\n",
        "\n",
        "\n",
        "```\n",
        "input : (3,5)\n",
        "output: [[0, 0, 0, 0, 0], [0, 1, 2, 3, 4], [0, 2, 4, 6, 8]]\n",
        "```\n",
        "\n"
      ]
    },
    {
      "cell_type": "code",
      "execution_count": 30,
      "metadata": {
        "id": "0034ef29",
        "colab": {
          "base_uri": "https://localhost:8080/"
        },
        "outputId": "8cd5093f-85cc-40cb-b33e-e3dcd3ec0a97"
      },
      "outputs": [
        {
          "output_type": "stream",
          "name": "stdout",
          "text": [
            "[[0, 0, 0, 0, 0], [0, 1, 2, 3, 4], [0, 2, 4, 6, 8]]\n"
          ]
        }
      ],
      "source": [
        "def generate_multidim_list(dimensions):\n",
        "    multilist = []\n",
        "\n",
        "    ### START CODE HERE ###\n",
        "    N1, N2 = dimensions\n",
        "    for i in range(N1):\n",
        "        row = []\n",
        "        for j in range(N2):\n",
        "            row.append(i * j)\n",
        "        multilist.append(row)\n",
        "    ### END CODE HERE ###\n",
        "    return multilist\n",
        "\n",
        "dimensions = (3,5)\n",
        "print(generate_multidim_list(dimensions))"
      ]
    },
    {
      "cell_type": "markdown",
      "metadata": {
        "id": "391f8d6c"
      },
      "source": [
        "## 9.(9 pts)\n",
        "Write a function to print the given list after removing all duplicate values with original order reserved. Example:\n",
        "\n",
        "\n",
        "```\n",
        "input list: [12,24,35,24,88,120,155,88,120,155]\n",
        "printed list: [12,24,35,88,120,155]\n",
        "```\n"
      ]
    },
    {
      "cell_type": "code",
      "execution_count": 31,
      "metadata": {
        "id": "OoHjh1TTJLZo",
        "colab": {
          "base_uri": "https://localhost:8080/"
        },
        "outputId": "eafc6673-2c20-4804-e46d-8582c278e8dd"
      },
      "outputs": [
        {
          "output_type": "stream",
          "name": "stdout",
          "text": [
            "[12, 24, 35, 88, 120, 155]\n"
          ]
        }
      ],
      "source": [
        "def removeDuplicate( lst ):\n",
        "    new_list=[]\n",
        "    ### START CODE HERE ###\n",
        "    for item in lst:\n",
        "        if item not in new_list:\n",
        "            new_list.append(item)\n",
        "    ### END CODE HERE ###\n",
        "    print(new_list)\n",
        "\n",
        "lst=[12,24,35,24,88,120,155,88,120,155]\n",
        "removeDuplicate(lst)"
      ]
    },
    {
      "cell_type": "markdown",
      "metadata": {
        "id": "cc3e38bf"
      },
      "source": [
        "## 10.(7 pts)\n",
        "Write a program that accepts a sentence and calculate the number of letters and digits. Example:\n",
        "```\n",
        "input: hello world! 123\n",
        "output:\n",
        "DIGITS 3\n",
        "LETTERS 10\n",
        "````"
      ]
    },
    {
      "cell_type": "code",
      "execution_count": 32,
      "metadata": {
        "id": "XWDpd6awSZE6",
        "colab": {
          "base_uri": "https://localhost:8080/"
        },
        "outputId": "575e7d1c-5eaa-4515-97be-b139daf0894f"
      },
      "outputs": [
        {
          "output_type": "stream",
          "name": "stdout",
          "text": [
            "Input your sntetce: hello world! 123\n",
            "hello world! 123\n",
            "{'DIGITS': 3, 'LETTERS': 10}\n"
          ]
        }
      ],
      "source": [
        "s = str(input(\"Input your sntetce: \"))\n",
        "d={\"DIGITS\":0, \"LETTERS\":0}\n",
        "\n",
        "### START CODE HERE ###\n",
        "for char in s:\n",
        "    if char.isdigit():\n",
        "        d[\"DIGITS\"] += 1\n",
        "    elif char.isalpha():\n",
        "        d[\"LETTERS\"] += 1\n",
        "### END CODE HERE ###\n",
        "\n",
        "print(s)\n",
        "print(d)"
      ]
    },
    {
      "cell_type": "markdown",
      "metadata": {
        "id": "rACs4nT4U4hd"
      },
      "source": [
        "## 11.(9 pts)\n",
        "Write a function to find all possible pairs in a list whose sum is equal to a given value.\n",
        "\n",
        "\n",
        "```\n",
        "list = [1,2,3,4,5,6,7,8,9]\n",
        "val = 5\n",
        "output = [(3, 2), (4, 1)]\n",
        "```\n",
        "\n"
      ]
    },
    {
      "cell_type": "code",
      "execution_count": 33,
      "metadata": {
        "id": "3CAf_3JsTOwT",
        "colab": {
          "base_uri": "https://localhost:8080/"
        },
        "outputId": "9bde265a-2edd-469b-a794-0487fe6dc2bc"
      },
      "outputs": [
        {
          "output_type": "stream",
          "name": "stdout",
          "text": [
            "Original list:\n",
            "[1, 2, 3, 4, 5, 6, 7, 8, 9]\n",
            "List of all pairs with given sum: 10\n",
            "[(1, 9), (2, 8), (3, 7), (4, 6)]\n",
            "List of all pairs with given sum: 35\n",
            "[]\n",
            "List of all pairs with given sum: 5\n",
            "[(1, 4), (2, 3)]\n"
          ]
        }
      ],
      "source": [
        "\n",
        "def find_pairs(lst, val):\n",
        "    pairs = []\n",
        "    ### START CODE HERE ###\n",
        "    for i in range(len(lst)):\n",
        "      for j in range(i + 1, len(lst)):\n",
        "          if lst[i] + lst[j] == val:\n",
        "              pairs.append((lst[i], lst[j]))\n",
        "    ### END CODE HERE ###\n",
        "    return pairs\n",
        "\n",
        "nums = [1,2,3,4,5,6,7,8,9]\n",
        "print(\"Original list:\")\n",
        "print(nums)\n",
        "\n",
        "val = 10\n",
        "print(\"List of all pairs with given sum:\",val)\n",
        "print(find_pairs(nums,val))\n",
        "\n",
        "val = 35\n",
        "print(\"List of all pairs with given sum:\",val)\n",
        "print(find_pairs(nums,val))\n",
        "\n",
        "val = 5\n",
        "print(\"List of all pairs with given sum:\",val)\n",
        "print(find_pairs(nums,val))"
      ]
    },
    {
      "cell_type": "markdown",
      "metadata": {
        "id": "e89c75ed"
      },
      "source": [
        "## 12.(10 pts)\n",
        "Write a Python program to calculate the sum of positive and negative values of a given list using the `lambda` function."
      ]
    },
    {
      "cell_type": "code",
      "execution_count": 34,
      "metadata": {
        "id": "_Ii48Mv4aJAK",
        "colab": {
          "base_uri": "https://localhost:8080/"
        },
        "outputId": "23800e58-a230-4ae6-fc7f-f9bee22b7b51"
      },
      "outputs": [
        {
          "output_type": "stream",
          "name": "stdout",
          "text": [
            "Original list: [2, 4, -6, -9, 11, -12, 14, -5, 17]\n",
            "Sum of positive values:  48\n",
            "Sum of negative values:  -32\n"
          ]
        }
      ],
      "source": [
        "nums = [2, 4, -6, -9, 11, -12, 14, -5, 17]\n",
        "negative_sum = 0\n",
        "positive_sum = 0\n",
        "print(\"Original list:\",nums)\n",
        "\n",
        "### START CODE HERE ###\n",
        "positive_sum = sum([num for num in nums if num > 0])\n",
        "negative_sum = sum([num for num in nums if num < 0])\n",
        "### END CODE HERE ###\n",
        "\n",
        "print(\"Sum of positive values: \",positive_sum)\n",
        "print(\"Sum of negative values: \",negative_sum)"
      ]
    }
  ],
  "metadata": {
    "colab": {
      "provenance": []
    },
    "kernelspec": {
      "display_name": "Python 3 (ipykernel)",
      "language": "python",
      "name": "python3"
    },
    "language_info": {
      "codemirror_mode": {
        "name": "ipython",
        "version": 3
      },
      "file_extension": ".py",
      "mimetype": "text/x-python",
      "name": "python",
      "nbconvert_exporter": "python",
      "pygments_lexer": "ipython3",
      "version": "3.9.13"
    }
  },
  "nbformat": 4,
  "nbformat_minor": 0
}