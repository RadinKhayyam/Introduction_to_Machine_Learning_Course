{
  "cells": [
    {
      "cell_type": "markdown",
      "source": [
        "<br>\n",
        "<font>\n",
        "<div dir=ltr align=center>\n",
        "<font color=0F5298 size=7>\n",
        "    Introduction to Machine Learning <br>\n",
        "<font color=2565AE size=5>\n",
        "    Electrical Engineering Department <br>\n",
        "    Spring 2024<br>\n",
        "<font color=3C99D size=5>\n",
        "    Practical Assignment 2 <br>\n",
        "<font color=696880 size=4>"
      ],
      "metadata": {
        "id": "faE7-GQUqn2i"
      }
    },
    {
      "cell_type": "markdown",
      "source": [
        "# Student Information\n"
      ],
      "metadata": {
        "id": "KbVAxv9UrEFC"
      }
    },
    {
      "cell_type": "code",
      "source": [
        "Student_Name = \"Radin Khayyam\"\n",
        "Student_ID = \"99101579\"\n",
        "\n",
        "print(\"Student_Name:\",Student_Name)\n",
        "print(\"Student_ID:\",Student_ID)"
      ],
      "metadata": {
        "id": "fCmYVWi1rFF6",
        "outputId": "70482c28-7a7a-4208-e159-709c8a3058cf",
        "colab": {
          "base_uri": "https://localhost:8080/"
        }
      },
      "execution_count": null,
      "outputs": [
        {
          "output_type": "stream",
          "name": "stdout",
          "text": [
            "Student_Name: Radin Khayyam\n",
            "Student_ID: 99101579\n"
          ]
        }
      ]
    },
    {
      "cell_type": "markdown",
      "metadata": {
        "id": "1utEjGAihdDP"
      },
      "source": [
        "### **1- Data Preprocessing and Splitting:**"
      ]
    },
    {
      "cell_type": "markdown",
      "metadata": {
        "id": "N5pQr1ECSiVw"
      },
      "source": [
        "**1.1-**\n",
        "\n"
      ]
    },
    {
      "cell_type": "code",
      "execution_count": null,
      "metadata": {
        "colab": {
          "base_uri": "https://localhost:8080/"
        },
        "id": "50Rd87kfZHmd",
        "outputId": "ef01b07e-ad2a-445f-b821-b1dfc8e0a890"
      },
      "outputs": [
        {
          "output_type": "stream",
          "name": "stdout",
          "text": [
            "    age  gender  height  weight  ap_hi  ap_lo  smoke  alco  active  cardio  \\\n",
            "0  51.0     1.0   168.0    62.0  110.0   80.0    0.0   0.0     1.0     0.0   \n",
            "1  56.0     0.0   156.0    85.0  140.0   90.0    0.0   0.0     1.0     1.0   \n",
            "2  52.0     0.0   165.0    64.0  130.0   70.0    0.0   0.0     0.0     1.0   \n",
            "3  49.0     1.0   169.0    82.0  150.0    NaN    0.0   NaN     1.0     1.0   \n",
            "4  49.0     0.0     NaN    56.0  100.0   60.0    0.0   0.0     0.0     0.0   \n",
            "\n",
            "   cholesterol_1  cholesterol_2  cholesterol_3  gluc_1  gluc_2  gluc_3  \\\n",
            "0            1.0            0.0            0.0     1.0     0.0     0.0   \n",
            "1            0.0            0.0            NaN     1.0     0.0     0.0   \n",
            "2            0.0            0.0            1.0     1.0     0.0     NaN   \n",
            "3            1.0            0.0            0.0     1.0     0.0     0.0   \n",
            "4            1.0            0.0            NaN     1.0     0.0     0.0   \n",
            "\n",
            "         bmi   bp  \n",
            "0  21.967120  0.0  \n",
            "1  34.927679  2.0  \n",
            "2  23.507805  2.0  \n",
            "3  28.710479  NaN  \n",
            "4  23.011177  0.0  \n",
            "=================================================\n",
            "<class 'pandas.core.frame.DataFrame'>\n",
            "RangeIndex: 2000 entries, 0 to 1999\n",
            "Data columns (total 18 columns):\n",
            " #   Column         Non-Null Count  Dtype  \n",
            "---  ------         --------------  -----  \n",
            " 0   age            1997 non-null   float64\n",
            " 1   gender         1997 non-null   float64\n",
            " 2   height         1991 non-null   float64\n",
            " 3   weight         1995 non-null   float64\n",
            " 4   ap_hi          1996 non-null   float64\n",
            " 5   ap_lo          1996 non-null   float64\n",
            " 6   smoke          1998 non-null   float64\n",
            " 7   alco           1995 non-null   float64\n",
            " 8   active         1996 non-null   float64\n",
            " 9   cardio         1996 non-null   float64\n",
            " 10  cholesterol_1  1994 non-null   float64\n",
            " 11  cholesterol_2  1991 non-null   float64\n",
            " 12  cholesterol_3  1996 non-null   float64\n",
            " 13  gluc_1         1993 non-null   float64\n",
            " 14  gluc_2         1996 non-null   float64\n",
            " 15  gluc_3         1993 non-null   float64\n",
            " 16  bmi            1997 non-null   float64\n",
            " 17  bp             1993 non-null   float64\n",
            "dtypes: float64(18)\n",
            "memory usage: 281.4 KB\n",
            "None\n"
          ]
        }
      ],
      "source": [
        "import pandas as pd\n",
        "from sklearn.model_selection import train_test_split\n",
        "\n",
        "data = pd.read_csv('cardio_pred.csv')\n",
        "\n",
        "print(data.head())\n",
        "print('=================================================')\n",
        "print(data.info())"
      ]
    },
    {
      "cell_type": "markdown",
      "metadata": {
        "id": "8H22BAzLSynv"
      },
      "source": [
        "**1.2-**"
      ]
    },
    {
      "cell_type": "code",
      "execution_count": null,
      "metadata": {
        "colab": {
          "base_uri": "https://localhost:8080/"
        },
        "id": "QX9RjylQRy8A",
        "outputId": "0b8e2291-3e49-48a6-e173-d5a28091fff7"
      },
      "outputs": [
        {
          "output_type": "stream",
          "name": "stdout",
          "text": [
            "     age  gender  height  weight  ap_hi  ap_lo  smoke  alco  active  cardio  \\\n",
            "0   51.0     1.0   168.0    62.0  110.0   80.0    0.0   0.0     1.0     0.0   \n",
            "6   62.0     0.0   157.0    93.0  130.0   80.0    0.0   0.0     1.0     0.0   \n",
            "7   63.0     1.0   178.0    95.0  130.0   90.0    0.0   0.0     1.0     1.0   \n",
            "12  41.0     1.0   165.0    60.0  120.0   80.0    0.0   0.0     0.0     0.0   \n",
            "14  40.0     1.0   181.0    95.0  130.0   90.0    1.0   1.0     1.0     0.0   \n",
            "\n",
            "    cholesterol_1  cholesterol_2  cholesterol_3  gluc_1  gluc_2  gluc_3  \\\n",
            "0             1.0            0.0            0.0     1.0     0.0     0.0   \n",
            "6             0.0            0.0            1.0     1.0     0.0     0.0   \n",
            "7             0.0            0.0            1.0     0.0     0.0     1.0   \n",
            "12            1.0            0.0            0.0     1.0     0.0     0.0   \n",
            "14            1.0            0.0            0.0     1.0     0.0     0.0   \n",
            "\n",
            "          bmi   bp  \n",
            "0   21.967120  0.0  \n",
            "6   37.729725  2.0  \n",
            "7   29.983588  2.0  \n",
            "12  22.038567  1.0  \n",
            "14  28.997894  2.0  \n",
            "=================================================\n",
            "<class 'pandas.core.frame.DataFrame'>\n",
            "Index: 1937 entries, 0 to 1999\n",
            "Data columns (total 18 columns):\n",
            " #   Column         Non-Null Count  Dtype  \n",
            "---  ------         --------------  -----  \n",
            " 0   age            1937 non-null   float64\n",
            " 1   gender         1937 non-null   float64\n",
            " 2   height         1937 non-null   float64\n",
            " 3   weight         1937 non-null   float64\n",
            " 4   ap_hi          1937 non-null   float64\n",
            " 5   ap_lo          1937 non-null   float64\n",
            " 6   smoke          1937 non-null   float64\n",
            " 7   alco           1937 non-null   float64\n",
            " 8   active         1937 non-null   float64\n",
            " 9   cardio         1937 non-null   float64\n",
            " 10  cholesterol_1  1937 non-null   float64\n",
            " 11  cholesterol_2  1937 non-null   float64\n",
            " 12  cholesterol_3  1937 non-null   float64\n",
            " 13  gluc_1         1937 non-null   float64\n",
            " 14  gluc_2         1937 non-null   float64\n",
            " 15  gluc_3         1937 non-null   float64\n",
            " 16  bmi            1937 non-null   float64\n",
            " 17  bp             1937 non-null   float64\n",
            "dtypes: float64(18)\n",
            "memory usage: 287.5 KB\n",
            "None\n"
          ]
        }
      ],
      "source": [
        "data_cleaned = data.dropna()\n",
        "\n",
        "print(data_cleaned.head())\n",
        "print('=================================================')\n",
        "print(data_cleaned.info())"
      ]
    },
    {
      "cell_type": "markdown",
      "metadata": {
        "id": "ukCe5JhtS1Ub"
      },
      "source": [
        "**1.3-**"
      ]
    },
    {
      "cell_type": "code",
      "execution_count": null,
      "metadata": {
        "id": "gOaZZjWSRziR"
      },
      "outputs": [],
      "source": [
        "train_set, test_set = train_test_split(data_cleaned, test_size=0.2, random_state=2024)"
      ]
    },
    {
      "cell_type": "markdown",
      "metadata": {
        "id": "Fwl1nqKAhj6-"
      },
      "source": [
        "### **2- Logistic Regression:**"
      ]
    },
    {
      "cell_type": "markdown",
      "metadata": {
        "id": "OWmzJkqgXIlr"
      },
      "source": [
        "**2.1-**"
      ]
    },
    {
      "cell_type": "code",
      "execution_count": null,
      "metadata": {
        "colab": {
          "base_uri": "https://localhost:8080/"
        },
        "id": "69z69tb3hnTW",
        "outputId": "6f84a0cd-9952-42a8-e50e-7a5a1806c37f"
      },
      "outputs": [
        {
          "output_type": "stream",
          "name": "stdout",
          "text": [
            "Accuracy of the logistic regression model: 0.7448453608247423\n"
          ]
        }
      ],
      "source": [
        "from sklearn.linear_model import LogisticRegression\n",
        "from sklearn.metrics import accuracy_score\n",
        "\n",
        "X_train = train_set.drop('cardio', axis=1)\n",
        "y_train = train_set['cardio']\n",
        "X_test = test_set.drop('cardio', axis=1)\n",
        "y_test = test_set['cardio']\n",
        "\n",
        "model = LogisticRegression(max_iter=1000)\n",
        "model.fit(X_train, y_train)\n",
        "\n",
        "y_pred = model.predict(X_test)\n",
        "accuracy = accuracy_score(y_test, y_pred)\n",
        "print(f'Accuracy of the logistic regression model: {accuracy}')"
      ]
    },
    {
      "cell_type": "markdown",
      "metadata": {
        "id": "p3mXmUnIX-xW"
      },
      "source": [
        "**2.2-**"
      ]
    },
    {
      "cell_type": "code",
      "execution_count": null,
      "metadata": {
        "colab": {
          "base_uri": "https://localhost:8080/"
        },
        "id": "d8WHFLiBX9Mk",
        "outputId": "199a0d11-ae63-425b-997f-9a0badf1c9d6"
      },
      "outputs": [
        {
          "output_type": "stream",
          "name": "stdout",
          "text": [
            "               Coefficient\n",
            "cholesterol_3     0.568716\n",
            "gluc_2            0.220131\n",
            "bp                0.181182\n",
            "weight            0.087546\n",
            "age               0.056140\n",
            "ap_hi             0.047104\n",
            "ap_lo             0.013571\n",
            "gluc_1           -0.060550\n",
            "height           -0.064214\n",
            "active           -0.108492\n",
            "alco             -0.125764\n",
            "smoke            -0.190576\n",
            "bmi              -0.206846\n",
            "gender           -0.213575\n",
            "cholesterol_2    -0.242808\n",
            "gluc_3           -0.250363\n",
            "cholesterol_1    -0.416690\n"
          ]
        }
      ],
      "source": [
        "coefficients = pd.DataFrame(model.coef_[0], index=X_train.columns, columns=['Coefficient'])\n",
        "sorted_coefficients = coefficients.sort_values(by='Coefficient', ascending=False)\n",
        "print(sorted_coefficients)"
      ]
    },
    {
      "cell_type": "markdown",
      "metadata": {
        "id": "OpcKJ49vZKXS"
      },
      "source": [
        "\n",
        "\n",
        "Positive coefficients increase the log-odds of the class label 1, meaning they increase the probability of having a cardiovascular disease. As we can see most important feature in cardiovascular disease is cholesterol_3.\n"
      ]
    },
    {
      "cell_type": "markdown",
      "metadata": {
        "id": "rb8tOuZlhqnU"
      },
      "source": [
        "### **3- SVM Classifier:**\n"
      ]
    },
    {
      "cell_type": "markdown",
      "metadata": {
        "id": "tOdZbDkTaSak"
      },
      "source": [
        "**3.1-**"
      ]
    },
    {
      "cell_type": "code",
      "execution_count": null,
      "metadata": {
        "colab": {
          "base_uri": "https://localhost:8080/"
        },
        "id": "rmyRiHV9htZ-",
        "outputId": "81a330ae-d9da-4085-9325-1b6372e7e12e"
      },
      "outputs": [
        {
          "output_type": "stream",
          "name": "stdout",
          "text": [
            "Results for SVM with linear kernel:\n",
            "C = 0.01 -----------> Accuracy = 0.7474226804123711\n",
            "C = 0.1 -----------> Accuracy = 0.7448453608247423\n",
            "C = 1 -----------> Accuracy = 0.7448453608247423\n",
            "C = 10 -----------> Accuracy = 0.7371134020618557\n",
            "C = 100 -----------> Accuracy = 0.7448453608247423\n"
          ]
        }
      ],
      "source": [
        "from sklearn.svm import SVC\n",
        "from sklearn.metrics import accuracy_score\n",
        "\n",
        "C_values = [0.01, 0.1, 1, 10, 100]\n",
        "print(\"Results for SVM with linear kernel:\")\n",
        "for C in C_values:\n",
        "    model = SVC(kernel='linear', C=C)\n",
        "    model.fit(X_train, y_train)\n",
        "    y_pred = model.predict(X_test)\n",
        "    accuracy = accuracy_score(y_test, y_pred)\n",
        "    print(f\"C = {C} -----------> Accuracy = {accuracy}\")"
      ]
    },
    {
      "cell_type": "markdown",
      "metadata": {
        "id": "3WPcLOU7aUat"
      },
      "source": [
        "**3.2-**"
      ]
    },
    {
      "cell_type": "code",
      "execution_count": null,
      "metadata": {
        "id": "H5RvRU_SaWbX",
        "colab": {
          "base_uri": "https://localhost:8080/"
        },
        "outputId": "9c9bcc91-6157-4f7e-94d4-44d572260549"
      },
      "outputs": [
        {
          "output_type": "stream",
          "name": "stdout",
          "text": [
            "Results for SVM with poly kernel:\n",
            "C = 0.01, Degree = 2 -----------> Accuracy = 0.5077319587628866\n",
            "C = 0.01, Degree = 3 -----------> Accuracy = 0.6855670103092784\n",
            "C = 0.01, Degree = 4 -----------> Accuracy = 0.7010309278350515\n",
            "C = 0.1, Degree = 2 -----------> Accuracy = 0.7216494845360825\n",
            "C = 0.1, Degree = 3 -----------> Accuracy = 0.7268041237113402\n",
            "C = 0.1, Degree = 4 -----------> Accuracy = 0.729381443298969\n",
            "C = 1, Degree = 2 -----------> Accuracy = 0.7396907216494846\n",
            "C = 1, Degree = 3 -----------> Accuracy = 0.7345360824742269\n",
            "C = 1, Degree = 4 -----------> Accuracy = 0.7345360824742269\n",
            "C = 10, Degree = 2 -----------> Accuracy = 0.7242268041237113\n",
            "C = 10, Degree = 3 -----------> Accuracy = 0.7319587628865979\n",
            "C = 10, Degree = 4 -----------> Accuracy = 0.7242268041237113\n",
            "C = 100, Degree = 2 -----------> Accuracy = 0.7474226804123711\n",
            "C = 100, Degree = 3 -----------> Accuracy = 0.75\n",
            "C = 100, Degree = 4 -----------> Accuracy = 0.7319587628865979\n"
          ]
        }
      ],
      "source": [
        "\n",
        "C_values = [0.01, 0.1, 1, 10, 100]\n",
        "degrees = [2, 3, 4]\n",
        "print(\"Results for SVM with poly kernel:\")\n",
        "for C in C_values:\n",
        "  for degree in degrees:\n",
        "      model = SVC(kernel='poly', degree=degree, C=C)\n",
        "      model.fit(X_train, y_train)\n",
        "      y_pred = model.predict(X_test)\n",
        "      accuracy = accuracy_score(y_test, y_pred)\n",
        "      print(f\"C = {C}, Degree = {degree} -----------> Accuracy = {accuracy}\")"
      ]
    },
    {
      "cell_type": "markdown",
      "metadata": {
        "id": "tBOtiZ9YaY6N"
      },
      "source": [
        "**3.3-**"
      ]
    },
    {
      "cell_type": "code",
      "execution_count": null,
      "metadata": {
        "id": "VcYSRclCaatl",
        "colab": {
          "base_uri": "https://localhost:8080/"
        },
        "outputId": "6db6d82f-0a3c-4151-eb36-b2a3e022e1bf"
      },
      "outputs": [
        {
          "output_type": "stream",
          "name": "stdout",
          "text": [
            "Results for SVM with rbf kernel:\n",
            "C = 0.01, Gamma = scale, Accuracy = 0.5051546391752577\n",
            "C = 0.01, Gamma = auto, Accuracy = 0.5051546391752577\n",
            "C = 0.1, Gamma = scale, Accuracy = 0.7242268041237113\n",
            "C = 0.1, Gamma = auto, Accuracy = 0.5051546391752577\n",
            "C = 1, Gamma = scale, Accuracy = 0.7371134020618557\n",
            "C = 1, Gamma = auto, Accuracy = 0.6237113402061856\n",
            "C = 10, Gamma = scale, Accuracy = 0.7242268041237113\n",
            "C = 10, Gamma = auto, Accuracy = 0.6314432989690721\n",
            "C = 100, Gamma = scale, Accuracy = 0.7396907216494846\n",
            "C = 100, Gamma = auto, Accuracy = 0.6314432989690721\n"
          ]
        }
      ],
      "source": [
        "C_values = [0.01, 0.1, 1, 10, 100]\n",
        "degrees = [2, 3, 4]\n",
        "gamma_values = ['scale', 'auto']\n",
        "print(\"Results for SVM with rbf kernel:\")\n",
        "for C in C_values:\n",
        "    for gamma in gamma_values:\n",
        "        model = SVC(kernel='rbf', gamma=gamma, C=C)\n",
        "        model.fit(X_train, y_train)\n",
        "        y_pred = model.predict(X_test)\n",
        "        accuracy = accuracy_score(y_test, y_pred)\n",
        "        print(f\"C = {C}, Gamma = {gamma}, Accuracy = {accuracy}\")"
      ]
    },
    {
      "cell_type": "markdown",
      "metadata": {
        "id": "o5BT4sHnabXh"
      },
      "source": [
        "**3.4-**"
      ]
    },
    {
      "cell_type": "markdown",
      "source": [
        "The best result is for poly kernel with parameters C = 100 and degree = 3.\n",
        "accuracy is 75% with these parameters. the reason is non linear relationship between inputs and the label."
      ],
      "metadata": {
        "id": "5ejjzTT7hkAn"
      }
    },
    {
      "cell_type": "markdown",
      "source": [
        "### **4- Perceptron Classifier:**"
      ],
      "metadata": {
        "id": "YR3v1p4FhxS2"
      }
    },
    {
      "cell_type": "markdown",
      "source": [
        "**4.1-**"
      ],
      "metadata": {
        "id": "1LQyAlIXh8YB"
      }
    },
    {
      "cell_type": "code",
      "source": [
        "import numpy as np\n",
        "\n",
        "class SampleModePerceptron:\n",
        "    def __init__(self, learning_rate=0.01, epochs=1000):\n",
        "        self.learning_rate = learning_rate\n",
        "        self.epochs = epochs\n",
        "        self.weights = None\n",
        "\n",
        "    def fit(self, X, y):\n",
        "        self.weights = np.zeros(X.shape[1] + 1)\n",
        "        X_with_bias = np.c_[X, np.ones(X.shape[0])]\n",
        "\n",
        "        for epoch in range(self.epochs):\n",
        "            for xi, target in zip(X_with_bias, y):\n",
        "                linear_output = np.dot(xi, self.weights)\n",
        "                prediction = 1 if linear_output > 0 else 0\n",
        "                self.weights += self.learning_rate * (target - prediction) * xi\n",
        "\n",
        "    def predict(self, X):\n",
        "        X_with_bias = np.c_[X, np.ones(X.shape[0])]\n",
        "        linear_outputs = np.dot(X_with_bias, self.weights)\n",
        "        predictions = np.where(linear_outputs > 0, 1, 0)\n",
        "        return predictions\n",
        "\n",
        "    def accuracy(self, X, y):\n",
        "        predictions = self.predict(X)\n",
        "        return np.mean(predictions == y)\n",
        "\n",
        "\n",
        "perceptron = SampleModePerceptron(learning_rate=0.01, epochs=1000)\n",
        "perceptron.fit(X_train.values, y_train.values)\n",
        "\n",
        "test_accuracy = perceptron.accuracy(X_test.values, y_test.values)\n",
        "print(f\"Accuracy of the sample mode perceptron on the test set: {test_accuracy:.2f}\")\n"
      ],
      "metadata": {
        "colab": {
          "base_uri": "https://localhost:8080/"
        },
        "id": "K4X_abuFh-UQ",
        "outputId": "db90bf39-3be6-48f9-8bd4-16da2695562d"
      },
      "execution_count": null,
      "outputs": [
        {
          "output_type": "stream",
          "name": "stdout",
          "text": [
            "Accuracy of the sample mode perceptron on the test set: 0.69\n"
          ]
        }
      ]
    },
    {
      "cell_type": "markdown",
      "source": [
        "I tried both of them but the sample mode algorithm reached to a better accuracy."
      ],
      "metadata": {
        "id": "Nzg4W4cspPc7"
      }
    },
    {
      "cell_type": "markdown",
      "source": [
        "**4.2-**"
      ],
      "metadata": {
        "id": "kLBQgY9eiCUx"
      }
    },
    {
      "cell_type": "code",
      "source": [
        "from sklearn.linear_model import Perceptron\n",
        "from sklearn.metrics import accuracy_score\n",
        "\n",
        "sk_perceptron = Perceptron(max_iter=100, eta0=0.01, random_state=2024)\n",
        "sk_perceptron.fit(X_train, y_train)\n",
        "\n",
        "sk_y_pred = sk_perceptron.predict(X_test)\n",
        "\n",
        "sk_accuracy = accuracy_score(y_test, sk_y_pred)\n",
        "print(f\"Accuracy of sklearn's perceptron on the test set: {sk_accuracy:.2f}\")\n"
      ],
      "metadata": {
        "colab": {
          "base_uri": "https://localhost:8080/"
        },
        "id": "HfkwMb0CiE6b",
        "outputId": "67f55a6f-e9df-47d0-f323-2054d7f75de6"
      },
      "execution_count": null,
      "outputs": [
        {
          "output_type": "stream",
          "name": "stdout",
          "text": [
            "Accuracy of sklearn's perceptron on the test set: 0.61\n"
          ]
        }
      ]
    },
    {
      "cell_type": "code",
      "source": [
        "print(f\"Custom Perceptron Accuracy: {test_accuracy:.2f}\")\n",
        "print(f\"Sklearn Perceptron Accuracy: {sk_accuracy:.2f}\")\n",
        "\n",
        "if test_accuracy > sk_accuracy:\n",
        "    print(\"Custom Perceptron performs better.\")\n",
        "elif test_accuracy < sk_accuracy:\n",
        "    print(\"Sklearn Perceptron performs better.\")\n",
        "else:\n",
        "    print(\"Both Perceptrons perform equally.\")\n"
      ],
      "metadata": {
        "colab": {
          "base_uri": "https://localhost:8080/"
        },
        "id": "tEPgdzCzkx3l",
        "outputId": "dbdf6ac1-4105-44d3-d403-002b6748559c"
      },
      "execution_count": null,
      "outputs": [
        {
          "output_type": "stream",
          "name": "stdout",
          "text": [
            "Custom Perceptron Accuracy: 0.69\n",
            "Sklearn Perceptron Accuracy: 0.61\n",
            "Custom Perceptron performs better.\n"
          ]
        }
      ]
    },
    {
      "cell_type": "markdown",
      "source": [
        "### **5- MLP Classifier:**"
      ],
      "metadata": {
        "id": "CalWLR13lsl9"
      }
    },
    {
      "cell_type": "code",
      "source": [
        "from sklearn.neural_network import MLPClassifier\n",
        "from sklearn.model_selection import GridSearchCV\n",
        "from sklearn.preprocessing import StandardScaler\n",
        "from sklearn.pipeline import make_pipeline\n",
        "\n",
        "param_grid = {\n",
        "    'mlpclassifier__hidden_layer_sizes': [(50,), (100,), (50, 50), (100, 100)],\n",
        "    'mlpclassifier__activation': ['tanh', 'relu'],\n",
        "    'mlpclassifier__solver': ['sgd', 'adam'],\n",
        "    'mlpclassifier__alpha': [0.0001, 0.001, 0.01],\n",
        "    'mlpclassifier__max_iter': [500]\n",
        "}\n",
        "\n",
        "\n",
        "pipeline = make_pipeline(StandardScaler(), MLPClassifier(random_state=2024))\n",
        "\n",
        "grid_search = GridSearchCV(pipeline, param_grid, cv=3, scoring='accuracy', n_jobs=-1)\n",
        "\n",
        "grid_search.fit(X_train, y_train)\n",
        "\n",
        "print(\"Best parameters:\", grid_search.best_params_)\n",
        "print(\"Best cross-validation score: {:.2f}\".format(grid_search.best_score_))\n",
        "\n",
        "best_model = grid_search.best_estimator_\n",
        "test_accuracy = best_model.score(X_test, y_test)\n",
        "print(f\"Test set accuracy: {test_accuracy:.2f}\")\n"
      ],
      "metadata": {
        "colab": {
          "base_uri": "https://localhost:8080/"
        },
        "id": "XcD-CKoZmKP2",
        "outputId": "1927e7fc-e00a-4bc8-aa6c-4fe7ae4fc8d6"
      },
      "execution_count": null,
      "outputs": [
        {
          "output_type": "stream",
          "name": "stdout",
          "text": [
            "Best parameters: {'mlpclassifier__activation': 'relu', 'mlpclassifier__alpha': 0.01, 'mlpclassifier__hidden_layer_sizes': (100, 100), 'mlpclassifier__max_iter': 500, 'mlpclassifier__solver': 'sgd'}\n",
            "Best cross-validation score: 0.72\n",
            "Test set accuracy: 0.74\n"
          ]
        }
      ]
    },
    {
      "cell_type": "markdown",
      "source": [
        "### **6- Decision Tree:**"
      ],
      "metadata": {
        "id": "IpFn8WXomXQb"
      }
    },
    {
      "cell_type": "code",
      "source": [
        "from sklearn.tree import DecisionTreeClassifier\n",
        "from sklearn.model_selection import GridSearchCV\n",
        "\n",
        "param_grid = {\n",
        "    'max_depth': [None, 10, 20, 30, 40, 50],\n",
        "    'min_samples_split': [2, 10, 20],\n",
        "    'min_samples_leaf': [1, 5, 10],\n",
        "    'criterion': ['gini', 'entropy']\n",
        "}\n",
        "\n",
        "dtree = DecisionTreeClassifier(random_state=2024)\n",
        "\n",
        "grid_search = GridSearchCV(dtree, param_grid, cv=5, scoring='accuracy', n_jobs=-1)\n",
        "\n",
        "grid_search.fit(X_train, y_train)\n",
        "\n",
        "print(\"Best parameters:\", grid_search.best_params_)\n",
        "print(\"Best cross-validation score: {:.2f}\".format(grid_search.best_score_))\n",
        "\n",
        "best_tree = grid_search.best_estimator_\n",
        "test_accuracy = best_tree.score(X_test, y_test)\n",
        "print(f\"Test set accuracy: {test_accuracy:.2f}\")\n"
      ],
      "metadata": {
        "colab": {
          "base_uri": "https://localhost:8080/"
        },
        "id": "dFn4K5g-mpN2",
        "outputId": "130622af-3ad1-4bfb-ff1f-a39b133771fc"
      },
      "execution_count": null,
      "outputs": [
        {
          "output_type": "stream",
          "name": "stdout",
          "text": [
            "Best parameters: {'criterion': 'entropy', 'max_depth': 10, 'min_samples_leaf': 10, 'min_samples_split': 2}\n",
            "Best cross-validation score: 0.68\n",
            "Test set accuracy: 0.69\n"
          ]
        }
      ]
    },
    {
      "cell_type": "markdown",
      "source": [
        "### **7- Compare Results and Discussion:**"
      ],
      "metadata": {
        "id": "cyDTAhgSoiZJ"
      }
    },
    {
      "cell_type": "markdown",
      "source": [
        "Best accuracy is 74% which is for MLP classifer with two hidden layers with 100 neurons, relu activation function and 500 iteration and using sgd solver.\n",
        "In addition to accuracy we can calculate othe measures like sensitivity, specificity, precision and F1 score to evaluate the performance of the model."
      ],
      "metadata": {
        "id": "GRaQasBgovzS"
      }
    }
  ],
  "metadata": {
    "colab": {
      "provenance": []
    },
    "kernelspec": {
      "display_name": "Python 3",
      "name": "python3"
    },
    "language_info": {
      "name": "python"
    }
  },
  "nbformat": 4,
  "nbformat_minor": 0
}